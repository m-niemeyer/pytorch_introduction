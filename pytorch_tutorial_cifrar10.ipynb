{
 "cells": [
  {
   "cell_type": "code",
   "execution_count": 1,
   "metadata": {},
   "outputs": [],
   "source": [
    "import torch\n",
    "import torch.nn as nn\n",
    "import torch.nn.functional as F\n",
    "import torch.optim as optim\n",
    "import torchvision\n",
    "import torchvision.transforms as transforms\n",
    "import matplotlib.pyplot as plt\n",
    "import numpy as np\n",
    "import time"
   ]
  },
  {
   "cell_type": "code",
   "execution_count": 2,
   "metadata": {},
   "outputs": [],
   "source": [
    "transform = transforms.Compose(\n",
    "    [transforms.ToTensor(),\n",
    "    transforms.Normalize((0.5, 0.5, 0.5), (0.5, 0.5, 0.5))])"
   ]
  },
  {
   "cell_type": "code",
   "execution_count": 3,
   "metadata": {},
   "outputs": [
    {
     "name": "stdout",
     "output_type": "stream",
     "text": [
      "Working on cuda:0\n"
     ]
    }
   ],
   "source": [
    "device = torch.device(\"cuda:0\" if torch.cuda.is_available() else \"cpu\")\n",
    "print('Working on %s' % (device))"
   ]
  },
  {
   "cell_type": "code",
   "execution_count": 4,
   "metadata": {},
   "outputs": [
    {
     "name": "stdout",
     "output_type": "stream",
     "text": [
      "Files already downloaded and verified\n"
     ]
    }
   ],
   "source": [
    "trainset = torchvision.datasets.CIFAR10(root='./data', train=True,\n",
    "                                       download=True, transform=transform)"
   ]
  },
  {
   "cell_type": "code",
   "execution_count": 5,
   "metadata": {},
   "outputs": [],
   "source": [
    "trainloader = torch.utils.data.DataLoader(trainset, batch_size=4,\n",
    "                                         shuffle=True, num_workers=2)"
   ]
  },
  {
   "cell_type": "code",
   "execution_count": 6,
   "metadata": {},
   "outputs": [],
   "source": [
    "classes = ('plane', 'car', 'bird', 'cat',\n",
    "           'deer', 'dog', 'frog', 'horse', 'ship', 'truck')"
   ]
  },
  {
   "cell_type": "code",
   "execution_count": 7,
   "metadata": {},
   "outputs": [],
   "source": [
    "def imshow(img):\n",
    "    img = img / 2 + 0.5\n",
    "    npimg = img.numpy()\n",
    "    plt.imshow(np.transpose(npimg, (1,2,0)))"
   ]
  },
  {
   "cell_type": "code",
   "execution_count": 8,
   "metadata": {},
   "outputs": [
    {
     "name": "stderr",
     "output_type": "stream",
     "text": [
      "Process Process-1:\n",
      "Process Process-2:\n",
      "Traceback (most recent call last):\n",
      "  File \"/usr/lib/python3.6/multiprocessing/process.py\", line 258, in _bootstrap\n",
      "    self.run()\n",
      "Traceback (most recent call last):\n",
      "  File \"/usr/lib/python3.6/multiprocessing/process.py\", line 258, in _bootstrap\n",
      "    self.run()\n",
      "  File \"/usr/lib/python3.6/multiprocessing/process.py\", line 93, in run\n",
      "    self._target(*self._args, **self._kwargs)\n",
      "  File \"/usr/lib/python3.6/multiprocessing/process.py\", line 93, in run\n",
      "    self._target(*self._args, **self._kwargs)\n",
      "  File \"/is/sg/mniemeyer/.local/lib/python3.6/site-packages/torch/utils/data/dataloader.py\", line 96, in _worker_loop\n",
      "    r = index_queue.get(timeout=MANAGER_STATUS_CHECK_INTERVAL)\n",
      "  File \"/is/sg/mniemeyer/.local/lib/python3.6/site-packages/torch/utils/data/dataloader.py\", line 96, in _worker_loop\n",
      "    r = index_queue.get(timeout=MANAGER_STATUS_CHECK_INTERVAL)\n",
      "  File \"/usr/lib/python3.6/multiprocessing/queues.py\", line 104, in get\n",
      "    if not self._poll(timeout):\n",
      "  File \"/usr/lib/python3.6/multiprocessing/queues.py\", line 104, in get\n",
      "    if not self._poll(timeout):\n",
      "  File \"/usr/lib/python3.6/multiprocessing/connection.py\", line 257, in poll\n",
      "    return self._poll(timeout)\n",
      "  File \"/usr/lib/python3.6/multiprocessing/connection.py\", line 257, in poll\n",
      "    return self._poll(timeout)\n",
      "  File \"/usr/lib/python3.6/multiprocessing/connection.py\", line 414, in _poll\n",
      "    r = wait([self], timeout)\n",
      "  File \"/usr/lib/python3.6/multiprocessing/connection.py\", line 414, in _poll\n",
      "    r = wait([self], timeout)\n",
      "  File \"/usr/lib/python3.6/multiprocessing/connection.py\", line 911, in wait\n",
      "    ready = selector.select(timeout)\n",
      "  File \"/usr/lib/python3.6/multiprocessing/connection.py\", line 911, in wait\n",
      "    ready = selector.select(timeout)\n",
      "  File \"/usr/lib/python3.6/selectors.py\", line 376, in select\n",
      "    fd_event_list = self._poll.poll(timeout)\n",
      "  File \"/usr/lib/python3.6/selectors.py\", line 376, in select\n",
      "    fd_event_list = self._poll.poll(timeout)\n",
      "KeyboardInterrupt\n",
      "KeyboardInterrupt\n"
     ]
    }
   ],
   "source": [
    "dataiter = iter(trainloader)\n",
    "images, labels = dataiter.next()"
   ]
  },
  {
   "cell_type": "code",
   "execution_count": 9,
   "metadata": {},
   "outputs": [
    {
     "name": "stdout",
     "output_type": "stream",
     "text": [
      " deer   dog  ship horse\n"
     ]
    },
    {
     "data": {
      "image/png": "[encoded data removed]",
      "text/plain": [
       "<Figure size 432x288 with 1 Axes>"
      ]
     },
     "metadata": {
      "needs_background": "light"
     },
     "output_type": "display_data"
    }
   ],
   "source": [
    "imshow(torchvision.utils.make_grid(images))\n",
    "print(' '.join('%5s' % classes[labels[j]] for j in range(4)))"
   ]
  },
  {
   "cell_type": "code",
   "execution_count": 10,
   "metadata": {},
   "outputs": [],
   "source": [
    "class Net(nn.Module):\n",
    "    def __init__(self):\n",
    "        super(Net, self).__init__()\n",
    "        self.conv1 = nn.Conv2d(3, 6, 5)\n",
    "        self.pool = nn.MaxPool2d(2, 2)\n",
    "        self.conv2 = nn.Conv2d(6, 16, 5)\n",
    "        self.fc1 = nn.Linear(16 * 5 * 5, 120)\n",
    "        self.fc2 = nn.Linear(120, 84)\n",
    "        self.fc3 = nn.Linear(84, 10)\n",
    "\n",
    "    def forward(self, x):\n",
    "        x = self.pool(F.relu(self.conv1(x)))\n",
    "        x = self.pool(F.relu(self.conv2(x)))\n",
    "        x = x.view(-1, 16 * 5 * 5)\n",
    "        x = F.relu(self.fc1(x))\n",
    "        x = F.relu(self.fc2(x))\n",
    "        x = self.fc3(x)\n",
    "        return x"
   ]
  },
  {
   "cell_type": "code",
   "execution_count": 11,
   "metadata": {},
   "outputs": [],
   "source": [
    "net = Net()\n",
    "net = net.to(device)"
   ]
  },
  {
   "cell_type": "code",
   "execution_count": 12,
   "metadata": {},
   "outputs": [],
   "source": [
    "criterion = nn.CrossEntropyLoss()\n",
    "optimizer = optim.SGD(net.parameters(), lr=0.001, momentum=0.9)"
   ]
  },
  {
   "cell_type": "code",
   "execution_count": 13,
   "metadata": {},
   "outputs": [
    {
     "name": "stdout",
     "output_type": "stream",
     "text": [
      "torch.Size([4, 10]) torch.Size([4])\n",
      "torch.Size([4, 10]) torch.Size([4])\n",
      "torch.Size([4, 10]) torch.Size([4])\n",
      "torch.Size([4, 10]) torch.Size([4])\n",
      "torch.Size([4, 10]) torch.Size([4])\n",
      "torch.Size([4, 10]) torch.Size([4])\n",
      "torch.Size([4, 10]) torch.Size([4])\n",
      "torch.Size([4, 10]) torch.Size([4])\n",
      "torch.Size([4, 10]) torch.Size([4])\n",
      "torch.Size([4, 10]) torch.Size([4])\n",
      "torch.Size([4, 10]) torch.Size([4])\n",
      "torch.Size([4, 10]) torch.Size([4])\n",
      "torch.Size([4, 10]) torch.Size([4])\n",
      "torch.Size([4, 10]) torch.Size([4])\n",
      "torch.Size([4, 10]) torch.Size([4])\n",
      "torch.Size([4, 10]) torch.Size([4])\n",
      "torch.Size([4, 10]) torch.Size([4])\n",
      "torch.Size([4, 10]) torch.Size([4])\n",
      "torch.Size([4, 10]) torch.Size([4])\n",
      "torch.Size([4, 10]) torch.Size([4])\n",
      "torch.Size([4, 10]) torch.Size([4])\n",
      "torch.Size([4, 10]) torch.Size([4])\n",
      "torch.Size([4, 10]) torch.Size([4])\n",
      "torch.Size([4, 10]) torch.Size([4])\n",
      "torch.Size([4, 10]) torch.Size([4])\n",
      "torch.Size([4, 10]) torch.Size([4])\n",
      "torch.Size([4, 10]) torch.Size([4])\n",
      "torch.Size([4, 10]) torch.Size([4])\n",
      "torch.Size([4, 10]) torch.Size([4])\n",
      "torch.Size([4, 10]) torch.Size([4])\n",
      "torch.Size([4, 10]) torch.Size([4])\n",
      "torch.Size([4, 10]) torch.Size([4])\n",
      "torch.Size([4, 10]) torch.Size([4])\n",
      "torch.Size([4, 10]) torch.Size([4])\n",
      "torch.Size([4, 10]) torch.Size([4])\n",
      "torch.Size([4, 10]) torch.Size([4])\n",
      "torch.Size([4, 10]) torch.Size([4])\n",
      "torch.Size([4, 10]) torch.Size([4])\n",
      "torch.Size([4, 10]) torch.Size([4])\n",
      "torch.Size([4, 10]) torch.Size([4])\n",
      "torch.Size([4, 10]) torch.Size([4])\n",
      "torch.Size([4, 10]) torch.Size([4])\n",
      "torch.Size([4, 10]) torch.Size([4])\n",
      "torch.Size([4, 10]) torch.Size([4])\n",
      "torch.Size([4, 10]) torch.Size([4])\n",
      "torch.Size([4, 10]) torch.Size([4])\n",
      "torch.Size([4, 10]) torch.Size([4])\n",
      "torch.Size([4, 10]) torch.Size([4])\n",
      "torch.Size([4, 10]) torch.Size([4])\n",
      "torch.Size([4, 10]) torch.Size([4])\n",
      "torch.Size([4, 10]) torch.Size([4])\n",
      "torch.Size([4, 10]) torch.Size([4])\n",
      "torch.Size([4, 10]) torch.Size([4])\n",
      "torch.Size([4, 10]) torch.Size([4])\n",
      "torch.Size([4, 10]) torch.Size([4])\n",
      "torch.Size([4, 10]) torch.Size([4])\n",
      "torch.Size([4, 10]) torch.Size([4])\n",
      "torch.Size([4, 10]) torch.Size([4])\n",
      "torch.Size([4, 10]) torch.Size([4])\n",
      "torch.Size([4, 10]) torch.Size([4])\n",
      "torch.Size([4, 10]) torch.Size([4])\n",
      "torch.Size([4, 10]) torch.Size([4])\n",
      "torch.Size([4, 10]) torch.Size([4])\n",
      "torch.Size([4, 10]) torch.Size([4])\n",
      "torch.Size([4, 10]) torch.Size([4])\n",
      "torch.Size([4, 10]) torch.Size([4])\n",
      "torch.Size([4, 10]) torch.Size([4])\n",
      "torch.Size([4, 10]) torch.Size([4])\n",
      "torch.Size([4, 10]) torch.Size([4])\n",
      "torch.Size([4, 10]) torch.Size([4])\n",
      "torch.Size([4, 10]) torch.Size([4])\n",
      "torch.Size([4, 10]) torch.Size([4])\n",
      "torch.Size([4, 10]) torch.Size([4])\n",
      "torch.Size([4, 10]) torch.Size([4])\n",
      "torch.Size([4, 10]) torch.Size([4])\n",
      "torch.Size([4, 10]) torch.Size([4])\n",
      "torch.Size([4, 10]) torch.Size([4])\n",
      "torch.Size([4, 10]) torch.Size([4])\n",
      "torch.Size([4, 10]) torch.Size([4])\n",
      "torch.Size([4, 10]) torch.Size([4])\n",
      "torch.Size([4, 10]) torch.Size([4])\n",
      "torch.Size([4, 10]) torch.Size([4])\n",
      "torch.Size([4, 10]) torch.Size([4])\n",
      "torch.Size([4, 10]) torch.Size([4])\n",
      "torch.Size([4, 10]) torch.Size([4])\n",
      "torch.Size([4, 10]) torch.Size([4])\n",
      "torch.Size([4, 10]) torch.Size([4])\n",
      "torch.Size([4, 10]) torch.Size([4])\n",
      "torch.Size([4, 10]) torch.Size([4])\n",
      "torch.Size([4, 10]) torch.Size([4])\n",
      "torch.Size([4, 10]) torch.Size([4])\n",
      "torch.Size([4, 10]) torch.Size([4])\n",
      "torch.Size([4, 10]) torch.Size([4])\n",
      "torch.Size([4, 10]) torch.Size([4])\n",
      "torch.Size([4, 10]) torch.Size([4])\n",
      "torch.Size([4, 10]) torch.Size([4])\n",
      "torch.Size([4, 10]) torch.Size([4])\n",
      "torch.Size([4, 10]) torch.Size([4])\n",
      "torch.Size([4, 10]) torch.Size([4])\n",
      "torch.Size([4, 10]) torch.Size([4])\n",
      "torch.Size([4, 10]) torch.Size([4])\n",
      "torch.Size([4, 10]) torch.Size([4])\n",
      "torch.Size([4, 10]) torch.Size([4])\n",
      "torch.Size([4, 10]) torch.Size([4])\n",
      "torch.Size([4, 10]) torch.Size([4])\n",
      "torch.Size([4, 10]) torch.Size([4])\n",
      "torch.Size([4, 10]) torch.Size([4])\n",
      "torch.Size([4, 10]) torch.Size([4])\n",
      "torch.Size([4, 10]) torch.Size([4])\n",
      "torch.Size([4, 10]) torch.Size([4])\n",
      "torch.Size([4, 10]) torch.Size([4])\n",
      "torch.Size([4, 10]) torch.Size([4])\n",
      "torch.Size([4, 10]) torch.Size([4])\n",
      "torch.Size([4, 10]) torch.Size([4])\n",
      "torch.Size([4, 10]) torch.Size([4])\n",
      "torch.Size([4, 10]) torch.Size([4])\n",
      "torch.Size([4, 10]) torch.Size([4])\n",
      "torch.Size([4, 10]) torch.Size([4])\n",
      "torch.Size([4, 10]) torch.Size([4])\n",
      "torch.Size([4, 10]) torch.Size([4])\n",
      "torch.Size([4, 10]) torch.Size([4])\n",
      "torch.Size([4, 10]) torch.Size([4])\n",
      "torch.Size([4, 10]) torch.Size([4])\n",
      "torch.Size([4, 10]) torch.Size([4])\n",
      "torch.Size([4, 10]) torch.Size([4])\n",
      "torch.Size([4, 10]) torch.Size([4])\n",
      "torch.Size([4, 10]) torch.Size([4])\n",
      "torch.Size([4, 10]) torch.Size([4])\n",
      "torch.Size([4, 10]) torch.Size([4])\n",
      "torch.Size([4, 10]) torch.Size([4])\n",
      "torch.Size([4, 10]) torch.Size([4])\n",
      "torch.Size([4, 10]) torch.Size([4])\n",
      "torch.Size([4, 10]) torch.Size([4])\n",
      "torch.Size([4, 10]) torch.Size([4])\n",
      "torch.Size([4, 10]) torch.Size([4])\n",
      "torch.Size([4, 10]) torch.Size([4])\n",
      "torch.Size([4, 10]) torch.Size([4])\n",
      "torch.Size([4, 10]) torch.Size([4])\n",
      "torch.Size([4, 10]) torch.Size([4])\n",
      "torch.Size([4, 10]) torch.Size([4])\n",
      "torch.Size([4, 10]) torch.Size([4])\n",
      "torch.Size([4, 10]) torch.Size([4])\n",
      "torch.Size([4, 10]) torch.Size([4])\n",
      "torch.Size([4, 10]) torch.Size([4])\n",
      "torch.Size([4, 10]) torch.Size([4])\n",
      "torch.Size([4, 10]) torch.Size([4])\n",
      "torch.Size([4, 10]) torch.Size([4])\n",
      "torch.Size([4, 10]) torch.Size([4])\n",
      "torch.Size([4, 10]) torch.Size([4])\n",
      "torch.Size([4, 10]) torch.Size([4])\n",
      "torch.Size([4, 10]) torch.Size([4])\n",
      "torch.Size([4, 10]) torch.Size([4])\n",
      "torch.Size([4, 10]) torch.Size([4])\n",
      "torch.Size([4, 10]) torch.Size([4])\n",
      "torch.Size([4, 10]) torch.Size([4])\n",
      "torch.Size([4, 10]) torch.Size([4])\n",
      "torch.Size([4, 10]) torch.Size([4])\n",
      "torch.Size([4, 10]) torch.Size([4])\n",
      "torch.Size([4, 10]) torch.Size([4])\n",
      "torch.Size([4, 10]) torch.Size([4])\n",
      "torch.Size([4, 10]) torch.Size([4])\n",
      "torch.Size([4, 10]) torch.Size([4])\n",
      "torch.Size([4, 10]) torch.Size([4])\n",
      "torch.Size([4, 10]) torch.Size([4])\n",
      "torch.Size([4, 10]) torch.Size([4])\n",
      "torch.Size([4, 10]) torch.Size([4])\n",
      "torch.Size([4, 10]) torch.Size([4])\n",
      "torch.Size([4, 10]) torch.Size([4])\n",
      "torch.Size([4, 10]) torch.Size([4])\n",
      "torch.Size([4, 10]) torch.Size([4])\n",
      "torch.Size([4, 10]) torch.Size([4])\n",
      "torch.Size([4, 10]) torch.Size([4])\n",
      "torch.Size([4, 10]) torch.Size([4])\n",
      "torch.Size([4, 10]) torch.Size([4])\n",
      "torch.Size([4, 10]) torch.Size([4])\n",
      "torch.Size([4, 10]) torch.Size([4])\n",
      "torch.Size([4, 10]) torch.Size([4])\n",
      "torch.Size([4, 10]) torch.Size([4])\n",
      "torch.Size([4, 10]) torch.Size([4])\n",
      "torch.Size([4, 10]) torch.Size([4])\n",
      "torch.Size([4, 10]) torch.Size([4])\n",
      "torch.Size([4, 10]) torch.Size([4])\n",
      "torch.Size([4, 10]) torch.Size([4])\n",
      "torch.Size([4, 10]) torch.Size([4])\n",
      "torch.Size([4, 10]) torch.Size([4])\n",
      "torch.Size([4, 10]) torch.Size([4])\n",
      "torch.Size([4, 10]) torch.Size([4])\n",
      "torch.Size([4, 10]) torch.Size([4])\n",
      "torch.Size([4, 10]) torch.Size([4])\n",
      "torch.Size([4, 10]) torch.Size([4])\n",
      "torch.Size([4, 10]) torch.Size([4])\n",
      "torch.Size([4, 10]) torch.Size([4])\n",
      "torch.Size([4, 10]) torch.Size([4])\n",
      "torch.Size([4, 10]) torch.Size([4])\n",
      "torch.Size([4, 10]) torch.Size([4])\n",
      "torch.Size([4, 10]) torch.Size([4])\n",
      "torch.Size([4, 10]) torch.Size([4])\n",
      "torch.Size([4, 10]) torch.Size([4])\n",
      "torch.Size([4, 10]) torch.Size([4])\n",
      "torch.Size([4, 10]) torch.Size([4])\n",
      "torch.Size([4, 10]) torch.Size([4])\n",
      "torch.Size([4, 10]) torch.Size([4])\n",
      "torch.Size([4, 10]) torch.Size([4])\n",
      "torch.Size([4, 10]) torch.Size([4])\n",
      "torch.Size([4, 10]) torch.Size([4])\n",
      "torch.Size([4, 10]) torch.Size([4])\n",
      "torch.Size([4, 10]) torch.Size([4])\n",
      "torch.Size([4, 10]) torch.Size([4])\n",
      "torch.Size([4, 10]) torch.Size([4])\n",
      "torch.Size([4, 10]) torch.Size([4])\n",
      "torch.Size([4, 10]) torch.Size([4])\n",
      "torch.Size([4, 10]) torch.Size([4])\n",
      "torch.Size([4, 10]) torch.Size([4])\n",
      "torch.Size([4, 10]) torch.Size([4])\n",
      "torch.Size([4, 10]) torch.Size([4])\n",
      "torch.Size([4, 10]) torch.Size([4])\n",
      "torch.Size([4, 10]) torch.Size([4])\n",
      "torch.Size([4, 10]) torch.Size([4])\n",
      "torch.Size([4, 10]) torch.Size([4])\n",
      "torch.Size([4, 10]) torch.Size([4])\n",
      "torch.Size([4, 10]) torch.Size([4])\n",
      "torch.Size([4, 10]) torch.Size([4])\n",
      "torch.Size([4, 10]) torch.Size([4])\n",
      "torch.Size([4, 10]) torch.Size([4])\n",
      "torch.Size([4, 10]) torch.Size([4])\n",
      "torch.Size([4, 10]) torch.Size([4])\n"
     ]
    },
    {
     "name": "stderr",
     "output_type": "stream",
     "text": [
      "Process Process-3:\n",
      "Exception ignored in: <bound method Image.__del__ of <PIL.Image.Image image mode=RGB size=32x32 at 0x7FCCFC3DD908>>\n",
      "Traceback (most recent call last):\n",
      "Traceback (most recent call last):\n",
      "  File \"/is/sg/mniemeyer/.local/lib/python3.6/site-packages/PIL/Image.py\", line 602, in __del__\n",
      "  File \"/usr/lib/python3.6/multiprocessing/process.py\", line 258, in _bootstrap\n",
      "    self.run()\n",
      "  File \"/usr/lib/python3.6/multiprocessing/process.py\", line 93, in run\n",
      "    self._target(*self._args, **self._kwargs)\n",
      "ERROR:root:Internal Python error in the inspect module.\n",
      "Below is the traceback from this internal error.\n",
      "\n",
      "    if (hasattr(self, 'fp') and hasattr(self, '_exclusive_fp')\n",
      "  File \"/is/sg/mniemeyer/.local/lib/python3.6/site-packages/torch/utils/data/dataloader.py\", line 96, in _worker_loop\n",
      "    r = index_queue.get(timeout=MANAGER_STATUS_CHECK_INTERVAL)\n",
      "KeyboardInterrupt\n",
      "  File \"/usr/lib/python3.6/multiprocessing/queues.py\", line 104, in get\n",
      "    if not self._poll(timeout):\n",
      "  File \"/usr/lib/python3.6/multiprocessing/connection.py\", line 257, in poll\n",
      "    return self._poll(timeout)\n",
      "  File \"/usr/lib/python3.6/multiprocessing/connection.py\", line 414, in _poll\n",
      "    r = wait([self], timeout)\n",
      "  File \"/usr/lib/python3.6/multiprocessing/connection.py\", line 911, in wait\n",
      "    ready = selector.select(timeout)\n",
      "  File \"/usr/lib/python3.6/selectors.py\", line 376, in select\n",
      "    fd_event_list = self._poll.poll(timeout)\n",
      "KeyboardInterrupt\n"
     ]
    },
    {
     "name": "stdout",
     "output_type": "stream",
     "text": [
      "torch.Size([4, 10]) torch.Size([4])\n",
      "Traceback (most recent call last):\n",
      "  File \"/usr/lib/python3/dist-packages/IPython/core/interactiveshell.py\", line 2882, in run_code\n",
      "    exec(code_obj, self.user_global_ns, self.user_ns)\n",
      "  File \"<ipython-input-13-c926682983d2>\", line 14, in <module>\n",
      "    outputs = net(inputs)\n",
      "  File \"/is/sg/mniemeyer/.local/lib/python3.6/site-packages/torch/nn/modules/module.py\", line 477, in __call__\n",
      "    result = self.forward(*input, **kwargs)\n",
      "  File \"<ipython-input-10-0408d9e1a14c>\", line 17, in forward\n",
      "    x = self.fc3(x)\n",
      "  File \"/is/sg/mniemeyer/.local/lib/python3.6/site-packages/torch/nn/modules/module.py\", line 477, in __call__\n",
      "    result = self.forward(*input, **kwargs)\n",
      "  File \"/is/sg/mniemeyer/.local/lib/python3.6/site-packages/torch/nn/modules/linear.py\", line 55, in forward\n",
      "    return F.linear(input, self.weight, self.bias)\n",
      "  File \"/is/sg/mniemeyer/.local/lib/python3.6/site-packages/torch/nn/functional.py\", line 1024, in linear\n",
      "    return torch.addmm(bias, input, weight.t())\n",
      "KeyboardInterrupt\n",
      "\n",
      "During handling of the above exception, another exception occurred:\n",
      "\n",
      "Traceback (most recent call last):\n",
      "  File \"/usr/lib/python3/dist-packages/IPython/core/interactiveshell.py\", line 1823, in showtraceback\n",
      "    stb = value._render_traceback_()\n",
      "AttributeError: 'KeyboardInterrupt' object has no attribute '_render_traceback_'\n",
      "\n",
      "During handling of the above exception, another exception occurred:\n",
      "\n",
      "Traceback (most recent call last):\n",
      "  File \"/usr/lib/python3/dist-packages/IPython/core/ultratb.py\", line 1132, in get_records\n",
      "    return _fixed_getinnerframes(etb, number_of_lines_of_context, tb_offset)\n",
      "  File \"/usr/lib/python3/dist-packages/IPython/core/ultratb.py\", line 313, in wrapped\n",
      "    return f(*args, **kwargs)\n",
      "  File \"/usr/lib/python3/dist-packages/IPython/core/ultratb.py\", line 358, in _fixed_getinnerframes\n",
      "    records = fix_frame_records_filenames(inspect.getinnerframes(etb, context))\n",
      "  File \"/usr/lib/python3.6/inspect.py\", line 1483, in getinnerframes\n",
      "    frameinfo = (tb.tb_frame,) + getframeinfo(tb, context)\n",
      "  File \"/usr/lib/python3.6/inspect.py\", line 1441, in getframeinfo\n",
      "    filename = getsourcefile(frame) or getfile(frame)\n",
      "  File \"/usr/lib/python3.6/inspect.py\", line 696, in getsourcefile\n",
      "    if getattr(getmodule(object, filename), '__loader__', None) is not None:\n",
      "  File \"/usr/lib/python3.6/inspect.py\", line 742, in getmodule\n",
      "    os.path.realpath(f)] = module.__name__\n",
      "  File \"/usr/lib/python3.6/posixpath.py\", line 388, in realpath\n",
      "    path, ok = _joinrealpath(filename[:0], filename, {})\n",
      "  File \"/usr/lib/python3.6/posixpath.py\", line 422, in _joinrealpath\n",
      "    if not islink(newpath):\n",
      "  File \"/usr/lib/python3.6/posixpath.py\", line 171, in islink\n",
      "    st = os.lstat(path)\n",
      "  File \"/is/sg/mniemeyer/.local/lib/python3.6/site-packages/torch/utils/data/dataloader.py\", line 227, in handler\n",
      "    _error_if_any_worker_fails()\n",
      "RuntimeError: DataLoader worker (pid 11161) exited unexpectedly with exit code 1. Details are lost due to multiprocessing. Rerunning with num_workers=0 may give better error trace.\n"
     ]
    },
    {
     "ename": "KeyboardInterrupt",
     "evalue": "",
     "output_type": "error",
     "traceback": [
      "\u001b[0;31m---------------------------------------------------------------------------\u001b[0m"
     ]
    }
   ],
   "source": [
    "for epoch in range(2):  # loop over the dataset multiple times\n",
    "\n",
    "    running_loss = 0.0\n",
    "    t_0 = time.time()\n",
    "    for i, data in enumerate(trainloader, 0):\n",
    "        # get the inputs\n",
    "        inputs, labels = data\n",
    "        inputs = inputs.to(device)\n",
    "        labels = labels.to(device)\n",
    "        # zero the parameter gradients\n",
    "        optimizer.zero_grad()\n",
    "\n",
    "        # forward + backward + optimize\n",
    "        outputs = net(inputs)\n",
    "        print(outputs.shape, labels.shape)\n",
    "        loss = criterion(outputs, labels)\n",
    "        loss.backward()\n",
    "        optimizer.step()\n",
    "\n",
    "        # print statistics\n",
    "        running_loss += loss.item()\n",
    "        if i % 2000 == 1999:    # print every 2000 mini-batches\n",
    "            t_1 = time.time()\n",
    "            print('[%d, %5d] loss: %.3f time: %.3f' %\n",
    "                  (epoch + 1, i + 1, running_loss / 2000, t_1-t_0))\n",
    "            t_0 = time.time()\n",
    "            running_loss = 0.0\n",
    "\n",
    "print('Finished Training')"
   ]
  },
  {
   "cell_type": "code",
   "execution_count": 20,
   "metadata": {},
   "outputs": [
    {
     "name": "stdout",
     "output_type": "stream",
     "text": [
      "Files already downloaded and verified\n"
     ]
    }
   ],
   "source": [
    "testset = torchvision.datasets.CIFAR10(root='./data', train=False,\n",
    "                                       download=True, transform=transform)\n",
    "testloader = torch.utils.data.DataLoader(testset, batch_size=4,\n",
    "                                         shuffle=False, num_workers=2)"
   ]
  },
  {
   "cell_type": "code",
   "execution_count": 21,
   "metadata": {},
   "outputs": [],
   "source": [
    "dataiter = iter(testloader)\n",
    "images, labels = dataiter.next()"
   ]
  },
  {
   "cell_type": "code",
   "execution_count": 22,
   "metadata": {},
   "outputs": [
    {
     "name": "stdout",
     "output_type": "stream",
     "text": [
      "GroundTruth:    cat  ship  ship plane\n"
     ]
    },
    {
     "data": {
      "image/png": "[encoded data removed]",
      "text/plain": [
       "<Figure size 432x288 with 1 Axes>"
      ]
     },
     "metadata": {
      "needs_background": "light"
     },
     "output_type": "display_data"
    }
   ],
   "source": [
    "imshow(torchvision.utils.make_grid(images))\n",
    "print('GroundTruth: ', ' '.join('%5s' % classes[labels[j]] for j in range(4)))"
   ]
  },
  {
   "cell_type": "code",
   "execution_count": 23,
   "metadata": {},
   "outputs": [],
   "source": [
    "images = images.to(device)"
   ]
  },
  {
   "cell_type": "code",
   "execution_count": 24,
   "metadata": {},
   "outputs": [],
   "source": [
    "outputs = net(images)"
   ]
  },
  {
   "cell_type": "code",
   "execution_count": 25,
   "metadata": {},
   "outputs": [
    {
     "name": "stdout",
     "output_type": "stream",
     "text": [
      "Predicted:   frog  ship  ship  ship\n"
     ]
    }
   ],
   "source": [
    "_, predicted = torch.max(outputs, 1)\n",
    "print('Predicted: ', ' '.join('%5s' % classes[predicted[j]]\n",
    "                             for j in range(4)))"
   ]
  },
  {
   "cell_type": "code",
   "execution_count": 26,
   "metadata": {},
   "outputs": [],
   "source": [
    "correct = 0\n",
    "total = 0\n",
    "with torch.no_grad():\n",
    "    for data in testloader:\n",
    "        images, labels = data\n",
    "        images = images.to(device)\n",
    "        labels = labels.to(device)\n",
    "        \n",
    "        outputs = net(images)\n",
    "        _, predicted = torch.max(outputs.data, 1)\n",
    "        total += labels.size(0)\n",
    "        correct += (predicted == labels).sum().item()"
   ]
  },
  {
   "cell_type": "code",
   "execution_count": 27,
   "metadata": {},
   "outputs": [
    {
     "name": "stdout",
     "output_type": "stream",
     "text": [
      "Acc of the net on the 10k test imgs: 55 %\n"
     ]
    }
   ],
   "source": [
    "print('Acc of the net on the 10k test imgs: %d %%' % (100 * correct / total))"
   ]
  },
  {
   "cell_type": "code",
   "execution_count": 28,
   "metadata": {},
   "outputs": [],
   "source": [
    "class_correct = list(0. for i in range(10))\n",
    "class_total = list(0. for i in range(10))\n",
    "with torch.no_grad():\n",
    "    for data in testloader:\n",
    "        images, labels = data\n",
    "        images = images.to(device)\n",
    "        labels = labels.to(device)\n",
    "        outputs = net(images)\n",
    "        _, predicted = torch.max(outputs, 1)\n",
    "        c = (predicted == labels).squeeze()\n",
    "        for i in range(4):\n",
    "            label = labels[i]\n",
    "            class_correct[label] += c[i].item()\n",
    "            class_total[label] += 1"
   ]
  },
  {
   "cell_type": "code",
   "execution_count": 29,
   "metadata": {},
   "outputs": [
    {
     "name": "stdout",
     "output_type": "stream",
     "text": [
      "Acc of plane: 70 %\n",
      "Acc of   car: 56 %\n",
      "Acc of  bird: 41 %\n",
      "Acc of   cat: 17 %\n",
      "Acc of  deer: 50 %\n",
      "Acc of   dog: 52 %\n",
      "Acc of  frog: 71 %\n",
      "Acc of horse: 64 %\n",
      "Acc of  ship: 81 %\n",
      "Acc of truck: 55 %\n"
     ]
    }
   ],
   "source": [
    "for i in range(10):\n",
    "    print('Acc of %5s: %2d %%' % (\n",
    "        classes[i], 100 * class_correct[i] / class_total[i]))"
   ]
  }
 ],
 "metadata": {
  "kernelspec": {
   "display_name": "Python 3",
   "language": "python",
   "name": "python3"
  },
  "language_info": {
   "codemirror_mode": {
    "name": "ipython",
    "version": 3
   },
   "file_extension": ".py",
   "mimetype": "text/x-python",
   "name": "python",
   "nbconvert_exporter": "python",
   "pygments_lexer": "ipython3",
   "version": "3.6.6"
  }
 },
 "nbformat": 4,
 "nbformat_minor": 2
}
